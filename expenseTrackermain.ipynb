{
 "cells": [
  {
   "cell_type": "code",
   "execution_count": null,
   "id": "53086ff7-7398-43f8-a454-f7dd3021a2c2",
   "metadata": {
    "tags": []
   },
   "outputs": [],
   "source": [
    "## '''%%capture cap --no-stderr'''\n",
    "import sys\n",
    "import os\n",
    "import re\n",
    "\n",
    "# exporting user defined functions of this project from expensertracker_functions.py file\n",
    "\n",
    "current_dir = os.getcwd()\n",
    "if current_dir not in sys.path:\n",
    "    sys.path.append(current_dir)\n",
    "    \n",
    "from expensetracker_functions import *\n",
    "\n",
    "\n",
    "view_exp_liist =[] \n",
    "new_exp_save=[]\n",
    "\n",
    "# loading list  from file when program starts\n",
    "view_exp_liist=load_expenses()\n",
    "if view_exp_liist is None:\n",
    "   print(\"Add Expenses\")\n",
    "else:\n",
    "    print(\"\\t \\033[1m MONTHLY EXPENSES \\033[0m \\n\")\n",
    "    header_map = {k: k.upper() for k in view_exp_liist[0].keys()}\n",
    "    print(tabulate( view_exp_liist, headers= header_map , tablefmt=\"plain\", showindex=range(1, len(view_exp_liist)+1)))\n",
    "\n",
    "#Displaying interactive menu and calling user defined functions\n",
    "\n",
    "while(True):\n",
    "    ch=display_menu()\n",
    "    if ch == 1:\n",
    "        print(\"\\t \\033[1m ENTER UR EXPENSES \\033[0m \\n\")\n",
    "        new_exp_save=get_user_ExpenseDetails()\n",
    "        \n",
    "        \n",
    "    elif ch == 2:\n",
    "       \n",
    "\n",
    "        view_exp_liist = load_expenses()\n",
    "        if view_exp_liist is None:\n",
    "               print(\"Kindly save the expenses in FILE/ADD new expenses\")\n",
    "               print(new_exp_save)\n",
    "        else:\n",
    "                view_expenses_from_list(view_exp_liist)    \n",
    "    elif ch == 3:\n",
    "        \n",
    "         track_expenses()\n",
    "    elif ch == 4:\n",
    "         \n",
    "         save_expenses(new_exp_save) \n",
    "         \n",
    "    elif ch == 5:\n",
    "         print(\"Good Day\")\n",
    "         break\n",
    "    else :\n",
    "         print(\"Enter valid choice.Try again \")\n",
    "         continue\n",
    "\n",
    "\n"
   ]
  },
  {
   "cell_type": "code",
   "execution_count": null,
   "id": "9347b974-52e4-4c75-86a4-f188ede11e30",
   "metadata": {
    "scrolled": true,
    "tags": []
   },
   "outputs": [],
   "source": [
    "\n",
    "# writing output to text file\n",
    "''' import re\n",
    "\n",
    "output = cap.stdout or ''\n",
    "with open('output.txt', 'w', encoding='utf-8') as f:\n",
    "    f.write(output)\n",
    "\n",
    "    \n",
    "ansi = re.compile(r'\\x1B(?:[@-Z\\\\-_]|\\[[0-?]*[ -/]*[@-~])')\n",
    "clean = ansi.sub('',output)\n",
    "with open('output1.txt', 'w', encoding='utf-8') as f:\n",
    "    f.write(clean)'''\n",
    "\n"
   ]
  },
  {
   "cell_type": "code",
   "execution_count": null,
   "id": "5d003fa4-73bd-47e5-a4f7-2874108e1461",
   "metadata": {},
   "outputs": [],
   "source": [
    "\n"
   ]
  },
  {
   "cell_type": "code",
   "execution_count": null,
   "id": "d6640d4a-b56d-486d-918c-851e278e2051",
   "metadata": {},
   "outputs": [],
   "source": []
  },
  {
   "cell_type": "code",
   "execution_count": null,
   "id": "805641c9-d419-4a25-96fc-cf03ce2c4c2a",
   "metadata": {},
   "outputs": [],
   "source": []
  },
  {
   "cell_type": "code",
   "execution_count": null,
   "id": "87c0ed4c-151b-4bc1-9206-2e0ee4cc46cf",
   "metadata": {},
   "outputs": [],
   "source": []
  },
  {
   "cell_type": "code",
   "execution_count": null,
   "id": "c04e9636-4d5e-46f3-a6b1-be049a35820e",
   "metadata": {},
   "outputs": [],
   "source": []
  },
  {
   "cell_type": "code",
   "execution_count": null,
   "id": "c27903df-4434-45aa-881f-2fea654348f3",
   "metadata": {},
   "outputs": [],
   "source": []
  },
  {
   "cell_type": "code",
   "execution_count": null,
   "id": "24acef32-21d8-41da-9450-92ccf94004dc",
   "metadata": {},
   "outputs": [],
   "source": []
  },
  {
   "cell_type": "code",
   "execution_count": null,
   "id": "c008918b-e2f5-4789-b280-72c71d56ed52",
   "metadata": {},
   "outputs": [],
   "source": []
  }
 ],
 "metadata": {
  "kernelspec": {
   "display_name": "Python 3 [3.10]",
   "language": "python",
   "name": "python3"
  },
  "language_info": {
   "codemirror_mode": {
    "name": "ipython",
    "version": 3
   },
   "file_extension": ".py",
   "mimetype": "text/x-python",
   "name": "python",
   "nbconvert_exporter": "python",
   "pygments_lexer": "ipython3",
   "version": "3.10.2"
  }
 },
 "nbformat": 4,
 "nbformat_minor": 5
}
